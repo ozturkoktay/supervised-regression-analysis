{
 "cells": [
  {
   "cell_type": "code",
   "execution_count": null,
   "source": [
    "import os\n",
    "import pandas as pd\n",
    "import numpy as np\n",
    "import matplotlib.pyplot as plt\n",
    "from sklearn.model_selection import train_test_split\n",
    "from sklearn import metrics\n",
    "from sklearn.model_selection import cross_val_score\n",
    "from sklearn.preprocessing import MinMaxScaler\n",
    "from sklearn.pipeline import Pipeline\n",
    "from sklearn.linear_model import LinearRegression, BayesianRidge, PassiveAggressiveRegressor, SGDRegressor\n",
    "from sklearn import svm\n",
    "from sklearn import tree\n",
    "from sklearn.neural_network import MLPRegressor\n",
    "from sklearn.ensemble import AdaBoostRegressor, RandomForestRegressor, GradientBoostingRegressor\n",
    "from sklearn.neighbors import KNeighborsRegressor\n",
    "from sklearn.model_selection import train_test_split\n",
    "from sklearn.cross_decomposition import PLSRegression"
   ],
   "outputs": [],
   "metadata": {}
  },
  {
   "cell_type": "code",
   "execution_count": null,
   "source": [
    "dataset = pd.read_csv('dataset.csv')"
   ],
   "outputs": [],
   "metadata": {}
  },
  {
   "cell_type": "code",
   "execution_count": null,
   "source": [
    "dataset.dropna(inplace=True)\n",
    "dataset.head()"
   ],
   "outputs": [],
   "metadata": {}
  },
  {
   "cell_type": "code",
   "execution_count": null,
   "source": [
    "dataset.describe()"
   ],
   "outputs": [],
   "metadata": {}
  },
  {
   "cell_type": "code",
   "execution_count": null,
   "source": [
    "def cross_val(model):\n",
    "    pred = cross_val_score(model, X, y, cv=10)\n",
    "    return pred.mean()\n",
    "\n",
    "def print_evaluate(true: list, predicted: list):  \n",
    "    mae = metrics.mean_absolute_error(true, predicted)\n",
    "    mse = metrics.mean_squared_error(true, predicted)\n",
    "    rmse = np.sqrt(metrics.mean_squared_error(true, predicted))\n",
    "    r2_square = metrics.r2_score(true, predicted)\n",
    "    print('MAE:', mae)\n",
    "    print('MSE:', mse)\n",
    "    print('RMSE:', rmse)\n",
    "    print('R2 Square', r2_square)\n",
    "    print('__________________________________')\n",
    "    \n",
    "def evaluate(true: list, predicted: list):\n",
    "    mae = metrics.mean_absolute_error(true, predicted)\n",
    "    mse = metrics.mean_squared_error(true, predicted)\n",
    "    rmse = np.sqrt(metrics.mean_squared_error(true, predicted))\n",
    "    r2_square = metrics.r2_score(true, predicted)\n",
    "    return [mae, mse, rmse, r2_square]\n",
    "\n",
    "def create_folder(directory: str):\n",
    "    try:\n",
    "        if not os.path.exists(directory):\n",
    "            os.makedirs(directory)\n",
    "    except OSError:\n",
    "        print('Error: Creating directory. ' +  directory)\n",
    "\n",
    "def clean_folder(directory: str):\n",
    "    try:\n",
    "        if os.path.exists(directory):\n",
    "            for file in os.listdir(directory):\n",
    "                file_path = os.path.join(directory, file)\n",
    "                try:\n",
    "                    if os.path.isfile(file_path):\n",
    "                        os.unlink(file_path)\n",
    "                except Exception as e:\n",
    "                    print(e)\n",
    "    except OSError:\n",
    "        print('Error: Cleaning directory. ' +  directory)"
   ],
   "outputs": [],
   "metadata": {}
  },
  {
   "cell_type": "code",
   "execution_count": null,
   "source": [
    "dataset.info()\n",
    "\n",
    "font = {'size': 13.5}\n",
    "\n",
    "plt.rc('font', **font)\n",
    "plt.rcParams[\"axes.labelweight\"] = \"bold\"\n",
    "plt.rcParams[\"font.weight\"] = \"bold\"\n",
    "\n",
    "sm = pd.plotting.scatter_matrix(dataset, alpha=0.5, figsize=(16, 16), diagonal='kde')\n",
    "\n",
    "clean_folder('figures')\n",
    "create_folder('figures')\n",
    "\n",
    "for ax in sm.flatten():\n",
    "    ax.xaxis.label.set_rotation(90)\n",
    "    ax.yaxis.label.set_rotation(0)\n",
    "    ax.yaxis.label.set_ha('right')\n",
    "\n",
    "plt.tight_layout()\n",
    "plt.gcf().subplots_adjust(wspace=0, hspace=0)\n",
    "plt.savefig('figures/scatter_matrix.png')\n"
   ],
   "outputs": [],
   "metadata": {}
  },
  {
   "cell_type": "code",
   "execution_count": null,
   "source": [
    "dataset.columns"
   ],
   "outputs": [],
   "metadata": {}
  },
  {
   "cell_type": "code",
   "execution_count": null,
   "source": [
    "regressors = {\n",
    "    \"Linear Regression\": LinearRegression(),\n",
    "    \"Bayesian Ridge Regression\": BayesianRidge(),\n",
    "    \"AdaBoost Regression\": AdaBoostRegressor(random_state=0, n_estimators=3000),\n",
    "    \"Random Forest Regression\": RandomForestRegressor(random_state=0, n_estimators=3000),\n",
    "    \"Passive Agressive Regression\": PassiveAggressiveRegressor(),\n",
    "    \"Gradient Boosting Regression\": GradientBoostingRegressor(random_state=0, n_estimators=1500),\n",
    "    \"SGD Regression\": SGDRegressor(max_iter=15000, tol=1e-3),\n",
    "    \"Artificial Neural Network Regression\": MLPRegressor(max_iter=5000000, hidden_layer_sizes=(50, 50), learning_rate_init=0.01),\n",
    "    \"Support Vector Regression\": svm.SVR(kernel='rbf', C=1e3, gamma=0.1),\n",
    "    \"Decision Tree Regression\": tree.DecisionTreeRegressor(random_state=0, max_depth=1000),\n",
    "    \"Extra Tree Regression\": tree.ExtraTreeRegressor(random_state=0, max_depth=1000),\n",
    "    \"PLS Regression\": PLSRegression(n_components=3),\n",
    "    \"KNN Regression\": KNeighborsRegressor(n_neighbors=3)\n",
    "}"
   ],
   "outputs": [],
   "metadata": {}
  },
  {
   "cell_type": "code",
   "execution_count": null,
   "source": [
    "result_dict = {}\n",
    "\n",
    "X = dataset[['input column name 1',\n",
    "             'input column name 2',\n",
    "             'input column name 3',\n",
    "             'input column name 4',\n",
    "             'input column name 5']]\n",
    "\n",
    "y = dataset['output column name']\n",
    "\n",
    "X_train, X_test, y_train, y_test = train_test_split(X, y, test_size=0.2, random_state=4777)\n",
    "pipeline = Pipeline([('std_scalar', MinMaxScaler())])\n",
    "\n",
    "X_train = pipeline.fit_transform(X_train)\n",
    "X_test = pipeline.transform(X_test)\n",
    "\n",
    "for j in regressors:\n",
    "    regr = regressors[j].fit(X_train, y_train)\n",
    "    score = regr.score(X_test, y_test)\n",
    "    pred = regr.predict(X_test)\n",
    "    plt.figure(figsize=(10,10))\n",
    "    plt.scatter(y_test, pred, c='crimson', s=20, alpha=0.5)\n",
    "    plt.yscale('log')\n",
    "    plt.xscale('log')\n",
    "\n",
    "    p1 = max(max(pred), max(y_test))\n",
    "    p2 = min(min(pred), min(y_test))\n",
    "    plt.plot([p1, p2], [p1, p2], 'k--', lw=2)\n",
    "    plt.title(\"Prediction using \" + j , fontsize=20, fontweight=\"bold\")\n",
    "    plt.xlabel('True Values', fontsize=20, fontweight=\"bold\")\n",
    "    plt.ylabel('Predictions', fontsize=20, fontweight=\"bold\")\n",
    "    plt.axis('equal')\n",
    "    plt.tight_layout()\n",
    "    plt.savefig(\"figures/\" + j + '_Result.png')\n",
    "    results = evaluate(y_test, pred)\n",
    "    result_dict[j]  = results\n",
    "    \n",
    "results =  pd.DataFrame.from_dict(result_dict, orient='index', columns=['MAE', 'MSE', 'RMSE', 'R2 Square'])   "
   ],
   "outputs": [],
   "metadata": {}
  },
  {
   "cell_type": "code",
   "execution_count": null,
   "source": [
    "results"
   ],
   "outputs": [],
   "metadata": {}
  }
 ],
 "metadata": {
  "orig_nbformat": 4,
  "language_info": {
   "name": "python",
   "version": "3.6.15",
   "mimetype": "text/x-python",
   "codemirror_mode": {
    "name": "ipython",
    "version": 3
   },
   "pygments_lexer": "ipython3",
   "nbconvert_exporter": "python",
   "file_extension": ".py"
  },
  "kernelspec": {
   "name": "python3",
   "display_name": "Python 3.7.9 64-bit"
  },
  "interpreter": {
   "hash": "767d51c1340bd893661ea55ea3124f6de3c7a262a8b4abca0554b478b1e2ff90"
  }
 },
 "nbformat": 4,
 "nbformat_minor": 2
}